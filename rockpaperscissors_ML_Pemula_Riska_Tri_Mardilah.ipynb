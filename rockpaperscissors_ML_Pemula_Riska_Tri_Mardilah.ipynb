{
  "nbformat": 4,
  "nbformat_minor": 0,
  "metadata": {
    "colab": {
      "name": "rockpaperscissors-ML Pemula-Riska Tri Mardilah.ipynb",
      "provenance": [],
      "collapsed_sections": []
    },
    "kernelspec": {
      "display_name": "Python 3",
      "name": "python3"
    },
    "language_info": {
      "name": "python"
    }
  },
  "cells": [
    {
      "cell_type": "code",
      "metadata": {
        "colab": {
          "background_save": true
        },
        "id": "vphwi4oFxnzy"
      },
      "source": [
        "# Name : Riska Tri Mardilah\n",
        "# username : chikayyz\n",
        "# email : rchika532@gmail.com\n",
        "# No Hp : +6282285366786\n",
        "# Alamat : Jl. Veteran Gang Pemuda No.97B, Kabupaten Lahat, Sumatera Selatan"
      ],
      "execution_count": null,
      "outputs": []
    },
    {
      "cell_type": "code",
      "metadata": {
        "id": "lF8HlPYwuEOK"
      },
      "source": [
        "import tensorflow as tf\n",
        "from tensorflow.keras.optimizers import RMSprop\n",
        "from tensorflow.keras.preprocessing.image import ImageDataGenerator"
      ],
      "execution_count": null,
      "outputs": []
    },
    {
      "cell_type": "code",
      "metadata": {
        "colab": {
          "background_save": true,
          "base_uri": "https://localhost:8080/"
        },
        "id": "TS1W6-PjvP9a",
        "outputId": "dfd4038c-8d1b-42ce-845d-9e793f2166af"
      },
      "source": [
        "!wget --no-check-certificate \\\n",
        "  https://dicodingacademy.blob.core.windows.net/picodiploma/ml_pemula_academy/rockpaperscissors.zip\\\n",
        "  -O /tmp/rockpaperscissors.zip"
      ],
      "execution_count": null,
      "outputs": [
        {
          "output_type": "stream",
          "text": [
            "--2021-05-29 08:17:04--  https://dicodingacademy.blob.core.windows.net/picodiploma/ml_pemula_academy/rockpaperscissors.zip\n",
            "Resolving dicodingacademy.blob.core.windows.net (dicodingacademy.blob.core.windows.net)... 52.239.197.36\n",
            "Connecting to dicodingacademy.blob.core.windows.net (dicodingacademy.blob.core.windows.net)|52.239.197.36|:443... connected.\n",
            "HTTP request sent, awaiting response... 200 OK\n",
            "Length: 322873683 (308M) [application/zip]\n",
            "Saving to: ‘/tmp/rockpaperscissors.zip’\n",
            "\n",
            "/tmp/rockpapersciss 100%[===================>] 307.92M  1.79MB/s    in 3m 33s  \n",
            "\n",
            "2021-05-29 08:20:38 (1.44 MB/s) - ‘/tmp/rockpaperscissors.zip’ saved [322873683/322873683]\n",
            "\n"
          ],
          "name": "stdout"
        }
      ]
    },
    {
      "cell_type": "code",
      "metadata": {
        "id": "_K7JlKVPxZWR"
      },
      "source": [
        "import zipfile,os\n",
        "local_zip = '/tmp/rockpaperscissors.zip'\n",
        "zip_ref = zipfile.ZipFile(local_zip, 'r')\n",
        "zip_ref.extractall('/tmp')\n",
        "zip_ref.close()\n",
        "\n",
        "base_dir = '/tmp/rockpaperscissors/rps-cv-images'"
      ],
      "execution_count": null,
      "outputs": []
    },
    {
      "cell_type": "code",
      "metadata": {
        "colab": {
          "base_uri": "https://localhost:8080/"
        },
        "id": "Agc3sBMMd1vl",
        "outputId": "9f0b74bb-c3e7-40f0-81eb-c1ff7060d6de"
      },
      "source": [
        "os.listdir('/tmp/rockpaperscissors/rps-cv-images')"
      ],
      "execution_count": null,
      "outputs": [
        {
          "output_type": "execute_result",
          "data": {
            "text/plain": [
              "['scissors', 'paper', 'rock', 'README_rpc-cv-images.txt']"
            ]
          },
          "metadata": {
            "tags": []
          },
          "execution_count": 73
        }
      ]
    },
    {
      "cell_type": "code",
      "metadata": {
        "id": "SwAH74xhMise"
      },
      "source": [
        "train_rock_dir = os.path.join(train_dir, 'rock')\n",
        "train_paper_dir = os.path.join(train_dir, 'paper')\n",
        "train_scissors_dir = os.path.join(train_dir, 'scissors')\n",
        "\n",
        "validation_rock_dir = os.path.join(validation_dir, 'rock')\n",
        "validation_paper_dir = os.path.join(validation_dir, 'paper')"
      ],
      "execution_count": null,
      "outputs": []
    },
    {
      "cell_type": "code",
      "metadata": {
        "id": "8kdzYVN-Moft"
      },
      "source": [
        "from sklearn.model_selection import train_test_split\n",
        "\n",
        "train_rock_dir = train_test_split(os.listdir('/tmp/rockpaperscissors/hasil_split/train/rock'), test_size = 0.40)\n",
        "validation_rock_dir = train_test_split(os.listdir('/tmp/rockpaperscissors/hasil_split/val/rock'), test_size = 0.40)\n",
        "train_paper_dir = train_test_split(os.listdir('/tmp/rockpaperscissors/hasil_split/train/paper'), test_size = 0.40)\n",
        "validation_paper_dir = train_test_split(os.listdir('/tmp/rockpaperscissors/hasil_split/val/paper'), test_size = 0.40)\n",
        "train_scissors_dir = train_test_split(os.listdir('/tmp/rockpaperscissors/hasil_split/train/scissors'), test_size = 0.40)\n",
        "validation_scissors_dir = train_test_split(os.listdir('/tmp/rockpaperscissors/hasil_split/val/scissors'), test_size = 0.40)"
      ],
      "execution_count": null,
      "outputs": []
    },
    {
      "cell_type": "code",
      "metadata": {
        "id": "YsDkGGBwEQkm"
      },
      "source": [
        "datagen = ImageDataGenerator(\n",
        "                    rescale=1./255,\n",
        "                    rotation_range=20,\n",
        "                    horizontal_flip=True,\n",
        "                    shear_range = 0.2,\n",
        "                    validation_split=0.4,\n",
        "                    fill_mode = 'nearest')"
      ],
      "execution_count": null,
      "outputs": []
    },
    {
      "cell_type": "code",
      "metadata": {
        "colab": {
          "base_uri": "https://localhost:8080/"
        },
        "id": "dAE9Wn_MXUtB",
        "outputId": "8e0d932c-8c18-4b5f-b87c-53789e9b722e"
      },
      "source": [
        "train_generator = datagen.flow_from_directory(\n",
        "        base_dir,\n",
        "        subset=\"training\",\n",
        "        target_size=(150, 150),\n",
        "        batch_size=4,\n",
        "        class_mode='categorical')\n",
        " \n",
        "validation_generator = datagen.flow_from_directory(\n",
        "        base_dir,\n",
        "        subset=\"validation\",\n",
        "        target_size=(150, 150),\n",
        "        batch_size=4,\n",
        "        class_mode='categorical')"
      ],
      "execution_count": null,
      "outputs": [
        {
          "output_type": "stream",
          "text": [
            "Found 1314 images belonging to 3 classes.\n",
            "Found 874 images belonging to 3 classes.\n"
          ],
          "name": "stdout"
        }
      ]
    },
    {
      "cell_type": "code",
      "metadata": {
        "id": "dKOj9uWEXlft"
      },
      "source": [
        "model = tf.keras.models.Sequential([\n",
        "    tf.keras.layers.Conv2D(32, (3,3), activation='relu', input_shape=(150, 150, 3)),\n",
        "    tf.keras.layers.MaxPooling2D(2, 2),\n",
        "    tf.keras.layers.Conv2D(64, (3,3), activation='relu'),\n",
        "    tf.keras.layers.MaxPooling2D(2,2),\n",
        "    tf.keras.layers.Conv2D(128, (3,3), activation='relu'),\n",
        "    tf.keras.layers.MaxPooling2D(2,2),\n",
        "    tf.keras.layers.Conv2D(128, (3,3), activation='relu'),\n",
        "    tf.keras.layers.MaxPooling2D(2,2),\n",
        "    tf.keras.layers.Flatten(),\n",
        "    tf.keras.layers.Dense(512, activation='relu'),\n",
        "    tf.keras.layers.Dense(3, activation='softmax')\n",
        "])"
      ],
      "execution_count": null,
      "outputs": []
    },
    {
      "cell_type": "code",
      "metadata": {
        "colab": {
          "base_uri": "https://localhost:8080/"
        },
        "id": "Uk-in3qEX9k1",
        "outputId": "cf32524b-88c9-4b03-e458-9b8d6dc664c6"
      },
      "source": [
        "model.compile(loss='categorical_crossentropy',\n",
        "              optimizer=tf.optimizers.Adam(),\n",
        "              metrics=['accuracy'])\n",
        "model.summary()"
      ],
      "execution_count": null,
      "outputs": [
        {
          "output_type": "stream",
          "text": [
            "Model: \"sequential_7\"\n",
            "_________________________________________________________________\n",
            "Layer (type)                 Output Shape              Param #   \n",
            "=================================================================\n",
            "conv2d_28 (Conv2D)           (None, 148, 148, 32)      896       \n",
            "_________________________________________________________________\n",
            "max_pooling2d_28 (MaxPooling (None, 74, 74, 32)        0         \n",
            "_________________________________________________________________\n",
            "conv2d_29 (Conv2D)           (None, 72, 72, 64)        18496     \n",
            "_________________________________________________________________\n",
            "max_pooling2d_29 (MaxPooling (None, 36, 36, 64)        0         \n",
            "_________________________________________________________________\n",
            "conv2d_30 (Conv2D)           (None, 34, 34, 128)       73856     \n",
            "_________________________________________________________________\n",
            "max_pooling2d_30 (MaxPooling (None, 17, 17, 128)       0         \n",
            "_________________________________________________________________\n",
            "conv2d_31 (Conv2D)           (None, 15, 15, 128)       147584    \n",
            "_________________________________________________________________\n",
            "max_pooling2d_31 (MaxPooling (None, 7, 7, 128)         0         \n",
            "_________________________________________________________________\n",
            "flatten_7 (Flatten)          (None, 6272)              0         \n",
            "_________________________________________________________________\n",
            "dense_14 (Dense)             (None, 512)               3211776   \n",
            "_________________________________________________________________\n",
            "dense_15 (Dense)             (None, 3)                 1539      \n",
            "=================================================================\n",
            "Total params: 3,454,147\n",
            "Trainable params: 3,454,147\n",
            "Non-trainable params: 0\n",
            "_________________________________________________________________\n"
          ],
          "name": "stdout"
        }
      ]
    },
    {
      "cell_type": "code",
      "metadata": {
        "colab": {
          "base_uri": "https://localhost:8080/"
        },
        "id": "Wy_cWGyZYRAD",
        "outputId": "ee0b0f5d-c7ff-49ea-c19f-46d23e971637"
      },
      "source": [
        "model.fit(\n",
        "      train_generator,\n",
        "      steps_per_epoch=45,\n",
        "      epochs=100,\n",
        "      validation_data=validation_generator,\n",
        "      validation_steps=3,\n",
        "      verbose=2)"
      ],
      "execution_count": null,
      "outputs": [
        {
          "output_type": "stream",
          "text": [
            "Epoch 1/100\n",
            "45/45 - 12s - loss: 1.1231 - accuracy: 0.3333 - val_loss: 1.3167 - val_accuracy: 0.1667\n",
            "Epoch 2/100\n",
            "45/45 - 11s - loss: 1.0134 - accuracy: 0.4556 - val_loss: 0.7163 - val_accuracy: 0.5000\n",
            "Epoch 3/100\n",
            "45/45 - 11s - loss: 0.7827 - accuracy: 0.7000 - val_loss: 0.6995 - val_accuracy: 0.8333\n",
            "Epoch 4/100\n",
            "45/45 - 11s - loss: 0.5309 - accuracy: 0.7944 - val_loss: 0.5078 - val_accuracy: 0.7500\n",
            "Epoch 5/100\n",
            "45/45 - 11s - loss: 0.4610 - accuracy: 0.8222 - val_loss: 0.0837 - val_accuracy: 1.0000\n",
            "Epoch 6/100\n",
            "45/45 - 12s - loss: 0.4596 - accuracy: 0.8167 - val_loss: 0.7010 - val_accuracy: 0.9167\n",
            "Epoch 7/100\n",
            "45/45 - 11s - loss: 0.4206 - accuracy: 0.8611 - val_loss: 0.2044 - val_accuracy: 1.0000\n",
            "Epoch 8/100\n",
            "45/45 - 11s - loss: 0.3016 - accuracy: 0.9111 - val_loss: 0.3498 - val_accuracy: 0.9167\n",
            "Epoch 9/100\n",
            "45/45 - 11s - loss: 0.2370 - accuracy: 0.9157 - val_loss: 0.7489 - val_accuracy: 0.8333\n",
            "Epoch 10/100\n",
            "45/45 - 11s - loss: 0.2995 - accuracy: 0.8722 - val_loss: 0.0507 - val_accuracy: 1.0000\n",
            "Epoch 11/100\n",
            "45/45 - 11s - loss: 0.2414 - accuracy: 0.9500 - val_loss: 0.7867 - val_accuracy: 0.7500\n",
            "Epoch 12/100\n",
            "45/45 - 11s - loss: 0.2210 - accuracy: 0.9222 - val_loss: 0.1386 - val_accuracy: 1.0000\n",
            "Epoch 13/100\n",
            "45/45 - 11s - loss: 0.2333 - accuracy: 0.9056 - val_loss: 0.2679 - val_accuracy: 0.9167\n",
            "Epoch 14/100\n",
            "45/45 - 11s - loss: 0.2208 - accuracy: 0.9389 - val_loss: 0.1456 - val_accuracy: 0.9167\n",
            "Epoch 15/100\n",
            "45/45 - 11s - loss: 0.2282 - accuracy: 0.9333 - val_loss: 0.0691 - val_accuracy: 1.0000\n",
            "Epoch 16/100\n",
            "45/45 - 11s - loss: 0.2155 - accuracy: 0.9056 - val_loss: 0.1805 - val_accuracy: 0.9167\n",
            "Epoch 17/100\n",
            "45/45 - 11s - loss: 0.1700 - accuracy: 0.9444 - val_loss: 0.1290 - val_accuracy: 0.9167\n",
            "Epoch 18/100\n",
            "45/45 - 11s - loss: 0.1796 - accuracy: 0.9382 - val_loss: 0.1480 - val_accuracy: 0.9167\n",
            "Epoch 19/100\n",
            "45/45 - 11s - loss: 0.1528 - accuracy: 0.9556 - val_loss: 0.3449 - val_accuracy: 0.8333\n",
            "Epoch 20/100\n",
            "45/45 - 11s - loss: 0.2090 - accuracy: 0.9278 - val_loss: 0.1088 - val_accuracy: 1.0000\n",
            "Epoch 21/100\n",
            "45/45 - 11s - loss: 0.1489 - accuracy: 0.9667 - val_loss: 0.0367 - val_accuracy: 1.0000\n",
            "Epoch 22/100\n",
            "45/45 - 11s - loss: 0.1639 - accuracy: 0.9500 - val_loss: 0.0481 - val_accuracy: 1.0000\n",
            "Epoch 23/100\n",
            "45/45 - 11s - loss: 0.1688 - accuracy: 0.9333 - val_loss: 0.1505 - val_accuracy: 0.9167\n",
            "Epoch 24/100\n",
            "45/45 - 11s - loss: 0.1715 - accuracy: 0.9278 - val_loss: 0.1483 - val_accuracy: 1.0000\n",
            "Epoch 25/100\n",
            "45/45 - 11s - loss: 0.2245 - accuracy: 0.9278 - val_loss: 0.0700 - val_accuracy: 1.0000\n",
            "Epoch 26/100\n",
            "45/45 - 11s - loss: 0.1694 - accuracy: 0.9333 - val_loss: 0.2312 - val_accuracy: 0.9167\n",
            "Epoch 27/100\n",
            "45/45 - 11s - loss: 0.1261 - accuracy: 0.9556 - val_loss: 0.1097 - val_accuracy: 1.0000\n",
            "Epoch 28/100\n",
            "45/45 - 11s - loss: 0.1127 - accuracy: 0.9667 - val_loss: 0.0063 - val_accuracy: 1.0000\n",
            "Epoch 29/100\n",
            "45/45 - 11s - loss: 0.1399 - accuracy: 0.9556 - val_loss: 0.0190 - val_accuracy: 1.0000\n",
            "Epoch 30/100\n",
            "45/45 - 11s - loss: 0.0863 - accuracy: 0.9556 - val_loss: 0.2070 - val_accuracy: 0.9167\n",
            "Epoch 31/100\n",
            "45/45 - 11s - loss: 0.1498 - accuracy: 0.9444 - val_loss: 0.6593 - val_accuracy: 0.9167\n",
            "Epoch 32/100\n",
            "45/45 - 11s - loss: 0.0492 - accuracy: 0.9833 - val_loss: 0.0025 - val_accuracy: 1.0000\n",
            "Epoch 33/100\n",
            "45/45 - 11s - loss: 0.1628 - accuracy: 0.9556 - val_loss: 0.0340 - val_accuracy: 1.0000\n",
            "Epoch 34/100\n",
            "45/45 - 11s - loss: 0.1490 - accuracy: 0.9494 - val_loss: 0.1267 - val_accuracy: 1.0000\n",
            "Epoch 35/100\n",
            "45/45 - 11s - loss: 0.1310 - accuracy: 0.9500 - val_loss: 0.0133 - val_accuracy: 1.0000\n",
            "Epoch 36/100\n",
            "45/45 - 11s - loss: 0.0957 - accuracy: 0.9667 - val_loss: 0.0468 - val_accuracy: 1.0000\n",
            "Epoch 37/100\n",
            "45/45 - 11s - loss: 0.1665 - accuracy: 0.9611 - val_loss: 0.1048 - val_accuracy: 1.0000\n",
            "Epoch 38/100\n",
            "45/45 - 11s - loss: 0.1261 - accuracy: 0.9556 - val_loss: 0.4764 - val_accuracy: 0.9167\n",
            "Epoch 39/100\n",
            "45/45 - 11s - loss: 0.0782 - accuracy: 0.9667 - val_loss: 0.1103 - val_accuracy: 0.9167\n",
            "Epoch 40/100\n",
            "45/45 - 11s - loss: 0.1588 - accuracy: 0.9333 - val_loss: 0.0193 - val_accuracy: 1.0000\n",
            "Epoch 41/100\n",
            "45/45 - 11s - loss: 0.1463 - accuracy: 0.9438 - val_loss: 0.1112 - val_accuracy: 0.9167\n",
            "Epoch 42/100\n",
            "45/45 - 11s - loss: 0.1301 - accuracy: 0.9556 - val_loss: 0.1490 - val_accuracy: 0.9167\n",
            "Epoch 43/100\n",
            "45/45 - 11s - loss: 0.1119 - accuracy: 0.9607 - val_loss: 0.0366 - val_accuracy: 1.0000\n",
            "Epoch 44/100\n",
            "45/45 - 11s - loss: 0.2834 - accuracy: 0.9278 - val_loss: 0.0312 - val_accuracy: 1.0000\n",
            "Epoch 45/100\n",
            "45/45 - 11s - loss: 0.0904 - accuracy: 0.9556 - val_loss: 0.0371 - val_accuracy: 1.0000\n",
            "Epoch 46/100\n",
            "45/45 - 11s - loss: 0.1592 - accuracy: 0.9444 - val_loss: 0.0700 - val_accuracy: 1.0000\n",
            "Epoch 47/100\n",
            "45/45 - 11s - loss: 0.0834 - accuracy: 0.9778 - val_loss: 0.0057 - val_accuracy: 1.0000\n",
            "Epoch 48/100\n",
            "45/45 - 11s - loss: 0.1169 - accuracy: 0.9556 - val_loss: 0.2244 - val_accuracy: 0.9167\n",
            "Epoch 49/100\n",
            "45/45 - 11s - loss: 0.1603 - accuracy: 0.9333 - val_loss: 0.1134 - val_accuracy: 1.0000\n",
            "Epoch 50/100\n",
            "45/45 - 11s - loss: 0.0701 - accuracy: 0.9667 - val_loss: 0.0224 - val_accuracy: 1.0000\n",
            "Epoch 51/100\n",
            "45/45 - 11s - loss: 0.1325 - accuracy: 0.9444 - val_loss: 0.2979 - val_accuracy: 0.8333\n",
            "Epoch 52/100\n",
            "45/45 - 11s - loss: 0.0699 - accuracy: 0.9667 - val_loss: 0.0163 - val_accuracy: 1.0000\n",
            "Epoch 53/100\n",
            "45/45 - 11s - loss: 0.1286 - accuracy: 0.9607 - val_loss: 0.0233 - val_accuracy: 1.0000\n",
            "Epoch 54/100\n",
            "45/45 - 11s - loss: 0.0644 - accuracy: 0.9778 - val_loss: 0.0371 - val_accuracy: 1.0000\n",
            "Epoch 55/100\n",
            "45/45 - 11s - loss: 0.0516 - accuracy: 0.9833 - val_loss: 0.0447 - val_accuracy: 1.0000\n",
            "Epoch 56/100\n",
            "45/45 - 11s - loss: 0.0370 - accuracy: 0.9889 - val_loss: 0.0434 - val_accuracy: 1.0000\n",
            "Epoch 57/100\n",
            "45/45 - 11s - loss: 0.1169 - accuracy: 0.9556 - val_loss: 0.0880 - val_accuracy: 0.9167\n",
            "Epoch 58/100\n",
            "45/45 - 11s - loss: 0.1387 - accuracy: 0.9551 - val_loss: 0.1281 - val_accuracy: 0.9167\n",
            "Epoch 59/100\n",
            "45/45 - 11s - loss: 0.0680 - accuracy: 0.9778 - val_loss: 0.0122 - val_accuracy: 1.0000\n",
            "Epoch 60/100\n",
            "45/45 - 11s - loss: 0.1273 - accuracy: 0.9444 - val_loss: 0.0401 - val_accuracy: 1.0000\n",
            "Epoch 61/100\n",
            "45/45 - 11s - loss: 0.1008 - accuracy: 0.9778 - val_loss: 0.0539 - val_accuracy: 1.0000\n",
            "Epoch 62/100\n",
            "45/45 - 12s - loss: 0.0430 - accuracy: 0.9889 - val_loss: 0.0346 - val_accuracy: 1.0000\n",
            "Epoch 63/100\n",
            "45/45 - 11s - loss: 0.0623 - accuracy: 0.9888 - val_loss: 0.0024 - val_accuracy: 1.0000\n",
            "Epoch 64/100\n",
            "45/45 - 11s - loss: 0.0261 - accuracy: 0.9833 - val_loss: 0.0090 - val_accuracy: 1.0000\n",
            "Epoch 65/100\n",
            "45/45 - 11s - loss: 0.0887 - accuracy: 0.9611 - val_loss: 0.1216 - val_accuracy: 0.9167\n",
            "Epoch 66/100\n",
            "45/45 - 11s - loss: 0.0716 - accuracy: 0.9611 - val_loss: 0.0029 - val_accuracy: 1.0000\n",
            "Epoch 67/100\n",
            "45/45 - 11s - loss: 0.1097 - accuracy: 0.9833 - val_loss: 0.0438 - val_accuracy: 1.0000\n",
            "Epoch 68/100\n",
            "45/45 - 11s - loss: 0.0535 - accuracy: 0.9778 - val_loss: 0.0027 - val_accuracy: 1.0000\n",
            "Epoch 69/100\n",
            "45/45 - 11s - loss: 0.0562 - accuracy: 0.9889 - val_loss: 0.0022 - val_accuracy: 1.0000\n",
            "Epoch 70/100\n",
            "45/45 - 11s - loss: 0.0581 - accuracy: 0.9611 - val_loss: 0.0558 - val_accuracy: 1.0000\n",
            "Epoch 71/100\n",
            "45/45 - 11s - loss: 0.2306 - accuracy: 0.9278 - val_loss: 0.0997 - val_accuracy: 0.9167\n",
            "Epoch 72/100\n",
            "45/45 - 11s - loss: 0.0126 - accuracy: 1.0000 - val_loss: 0.0028 - val_accuracy: 1.0000\n",
            "Epoch 73/100\n",
            "45/45 - 11s - loss: 0.0436 - accuracy: 0.9889 - val_loss: 0.3604 - val_accuracy: 0.8333\n",
            "Epoch 74/100\n",
            "45/45 - 11s - loss: 0.1335 - accuracy: 0.9556 - val_loss: 0.0866 - val_accuracy: 0.9167\n",
            "Epoch 75/100\n",
            "45/45 - 11s - loss: 0.0589 - accuracy: 0.9831 - val_loss: 0.0578 - val_accuracy: 1.0000\n",
            "Epoch 76/100\n",
            "45/45 - 11s - loss: 0.0980 - accuracy: 0.9556 - val_loss: 0.0104 - val_accuracy: 1.0000\n",
            "Epoch 77/100\n",
            "45/45 - 11s - loss: 0.0432 - accuracy: 0.9833 - val_loss: 0.0312 - val_accuracy: 1.0000\n",
            "Epoch 78/100\n",
            "45/45 - 11s - loss: 0.1306 - accuracy: 0.9722 - val_loss: 0.0686 - val_accuracy: 1.0000\n",
            "Epoch 79/100\n",
            "45/45 - 11s - loss: 0.0710 - accuracy: 0.9722 - val_loss: 0.0177 - val_accuracy: 1.0000\n",
            "Epoch 80/100\n",
            "45/45 - 11s - loss: 0.0159 - accuracy: 1.0000 - val_loss: 4.8658e-04 - val_accuracy: 1.0000\n",
            "Epoch 81/100\n",
            "45/45 - 11s - loss: 0.1160 - accuracy: 0.9444 - val_loss: 0.0097 - val_accuracy: 1.0000\n",
            "Epoch 82/100\n",
            "45/45 - 11s - loss: 0.0297 - accuracy: 0.9944 - val_loss: 0.0129 - val_accuracy: 1.0000\n",
            "Epoch 83/100\n",
            "45/45 - 11s - loss: 0.1033 - accuracy: 0.9722 - val_loss: 0.4163 - val_accuracy: 0.9167\n",
            "Epoch 84/100\n",
            "45/45 - 11s - loss: 0.1843 - accuracy: 0.9389 - val_loss: 0.2382 - val_accuracy: 0.9167\n",
            "Epoch 85/100\n",
            "45/45 - 11s - loss: 0.0582 - accuracy: 0.9722 - val_loss: 0.0557 - val_accuracy: 1.0000\n",
            "Epoch 86/100\n",
            "45/45 - 11s - loss: 0.0379 - accuracy: 0.9944 - val_loss: 0.0018 - val_accuracy: 1.0000\n",
            "Epoch 87/100\n",
            "45/45 - 11s - loss: 0.0069 - accuracy: 1.0000 - val_loss: 0.0424 - val_accuracy: 1.0000\n",
            "Epoch 88/100\n",
            "45/45 - 11s - loss: 0.0960 - accuracy: 0.9722 - val_loss: 0.0549 - val_accuracy: 1.0000\n",
            "Epoch 89/100\n",
            "45/45 - 11s - loss: 0.0966 - accuracy: 0.9833 - val_loss: 0.0291 - val_accuracy: 1.0000\n",
            "Epoch 90/100\n",
            "45/45 - 11s - loss: 0.0535 - accuracy: 0.9722 - val_loss: 0.0579 - val_accuracy: 1.0000\n",
            "Epoch 91/100\n",
            "45/45 - 11s - loss: 0.0719 - accuracy: 0.9775 - val_loss: 0.0011 - val_accuracy: 1.0000\n",
            "Epoch 92/100\n",
            "45/45 - 11s - loss: 0.0338 - accuracy: 0.9831 - val_loss: 0.2741 - val_accuracy: 0.9167\n",
            "Epoch 93/100\n",
            "45/45 - 11s - loss: 0.0904 - accuracy: 0.9778 - val_loss: 0.0551 - val_accuracy: 1.0000\n",
            "Epoch 94/100\n",
            "45/45 - 11s - loss: 0.0619 - accuracy: 0.9667 - val_loss: 0.0213 - val_accuracy: 1.0000\n",
            "Epoch 95/100\n",
            "45/45 - 11s - loss: 0.0356 - accuracy: 0.9888 - val_loss: 0.0291 - val_accuracy: 1.0000\n",
            "Epoch 96/100\n",
            "45/45 - 11s - loss: 0.0407 - accuracy: 0.9833 - val_loss: 0.0939 - val_accuracy: 0.9167\n",
            "Epoch 97/100\n",
            "45/45 - 11s - loss: 0.1001 - accuracy: 0.9722 - val_loss: 0.0801 - val_accuracy: 1.0000\n",
            "Epoch 98/100\n",
            "45/45 - 11s - loss: 0.1016 - accuracy: 0.9778 - val_loss: 0.0851 - val_accuracy: 1.0000\n",
            "Epoch 99/100\n",
            "45/45 - 11s - loss: 0.0386 - accuracy: 0.9889 - val_loss: 0.2335 - val_accuracy: 0.9167\n",
            "Epoch 100/100\n",
            "45/45 - 11s - loss: 0.0578 - accuracy: 0.9778 - val_loss: 0.0450 - val_accuracy: 1.0000\n"
          ],
          "name": "stdout"
        },
        {
          "output_type": "execute_result",
          "data": {
            "text/plain": [
              "<tensorflow.python.keras.callbacks.History at 0x7f8532fc9350>"
            ]
          },
          "metadata": {
            "tags": []
          },
          "execution_count": 85
        }
      ]
    },
    {
      "cell_type": "code",
      "metadata": {
        "colab": {
          "resources": {
            "http://localhost:8080/nbextensions/google.colab/files.js": {
              "data": "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",
              "ok": true,
              "headers": [
                [
                  "content-type",
                  "application/javascript"
                ]
              ],
              "status": 200,
              "status_text": ""
            }
          },
          "base_uri": "https://localhost:8080/",
          "height": 358
        },
        "id": "uo1l-D62KzsF",
        "outputId": "e4690b9c-c3dc-449e-9f7e-1de16bfac10f"
      },
      "source": [
        "import numpy as np\n",
        "from google.colab import files\n",
        "from keras.preprocessing import image\n",
        "import matplotlib.pyplot as plt\n",
        "import matplotlib.image as mpimg\n",
        "%matplotlib inline\n",
        " \n",
        "uploaded = files.upload()\n",
        " \n",
        "for fn in uploaded.keys():\n",
        " \n",
        "  # predicting images\n",
        "  path = fn\n",
        "  img = image.load_img(path, target_size = (150,150))\n",
        "  imgplot = plt.imshow(img)\n",
        "  x = image.img_to_array(img)\n",
        "  x = np.expand_dims(x, axis = 0)\n",
        " \n",
        "  images = np.vstack([x])\n",
        "  classes = model.predict(images, batch_size=10)\n",
        "  \n",
        "  print(fn)\n",
        "  if classes[0][0] == 1:\n",
        "    print('paper')\n",
        "  elif classes[0][1] == 1:\n",
        "    print('rock')\n",
        "  elif classes[0][2] == 1:\n",
        "    print('scissors')\n",
        "  else:\n",
        "    print('invalid image')"
      ],
      "execution_count": null,
      "outputs": [
        {
          "output_type": "display_data",
          "data": {
            "text/html": [
              "\n",
              "     <input type=\"file\" id=\"files-7fb2a09b-5392-49a5-b40e-91f52129d168\" name=\"files[]\" multiple disabled\n",
              "        style=\"border:none\" />\n",
              "     <output id=\"result-7fb2a09b-5392-49a5-b40e-91f52129d168\">\n",
              "      Upload widget is only available when the cell has been executed in the\n",
              "      current browser session. Please rerun this cell to enable.\n",
              "      </output>\n",
              "      <script src=\"/nbextensions/google.colab/files.js\"></script> "
            ],
            "text/plain": [
              "<IPython.core.display.HTML object>"
            ]
          },
          "metadata": {
            "tags": []
          }
        },
        {
          "output_type": "stream",
          "text": [
            "Saving WhatsApp Image 2021-05-29 at 15.11.50 (1).jpeg to WhatsApp Image 2021-05-29 at 15.11.50 (1) (1).jpeg\n",
            "WhatsApp Image 2021-05-29 at 15.11.50 (1).jpeg\n",
            "scissors\n"
          ],
          "name": "stdout"
        },
        {
          "output_type": "display_data",
          "data": {
            "image/png": "[encoded data removed]",
            "text/plain": [
              "<Figure size 432x288 with 1 Axes>"
            ]
          },
          "metadata": {
            "tags": [],
            "needs_background": "light"
          }
        }
      ]
    }
  ]
}